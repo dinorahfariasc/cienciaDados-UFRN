{
  "cells": [
    {
      "cell_type": "markdown",
      "metadata": {
        "id": "view-in-github",
        "colab_type": "text"
      },
      "source": [
        "<a href=\"https://colab.research.google.com/github/dinorahfariasc/cienciaDados-UFRN/blob/main/aula_Estat%C3%ADsticaInferencial_parteIII.ipynb\" target=\"_parent\"><img src=\"https://colab.research.google.com/assets/colab-badge.svg\" alt=\"Open In Colab\"/></a>"
      ]
    },
    {
      "cell_type": "markdown",
      "metadata": {
        "id": "pry9vn3WSnCu"
      },
      "source": [
        "# Aula Estatística Inferencial (parte 3)"
      ]
    },
    {
      "cell_type": "markdown",
      "metadata": {
        "id": "Xk6SDhQhSnDF"
      },
      "source": [
        "## Teste de hipóteses\n",
        "\n",
        "Fornecer uma medida da variabilidade de nossas estimativas é uma forma de produzir uma proposição estatística sobre a população, mas não a única. R.A.Fisher (1890-1962) propôs uma alternativa, conhecida como *teste de hipótese*, que é baseado no conceito de *significância estatística*.\n",
        "\n",
        "Vamos supor que uma análise mais profunda dos acidentes de trânsito em Barcelona resulte em uma diferença entre 2010 e 2013. Obviamente, a diferença poderia ser causada apenas pelo acaso, devido à variabilidade de ambas as estimativas. Mas também pode ser o caso de as condições de tráfego serem muito diferentes em Barcelona durante esses dois períodos e, por isso, os dados desses dois períodos podem ser considerados como pertencentes a duas populações diferentes. Então, a questão relevante é: os efeitos observados são reais ou não?\n",
        "\n",
        "O processo de determinar a significância estatística de um efeito é chamado de\n",
        "**teste de hipóteses**. Esse processo começa simplificando as opções em duas\n",
        "hipóteses concorrentes:\n",
        "\n",
        "+ $H_0$: O número médio de acidentes de trânsito diários é o mesmo em 2013 e 2010 (há apenas uma população, uma média verdadeira, e 2010 e 2013 são apenas amostras diferentes da mesma população).\n",
        "\n",
        "+ $H_A$: O número médio de acidentes de trânsito diários para 2010 e para 2013 é diferente (2010 e 2013 são duas amostras de duas populações diferentes).\n",
        "\n",
        "Chamamos $H_0$ de *hipótese nula* e ela representa um ponto de vista cético:\n",
        "o efeito que observamos é devido ao acaso (devido ao viés específico da amostra).\n",
        "\n",
        "$H_A$ é a *hipótese alternativa* e representa o outro ponto de vista:\n",
        "o efeito é real.\n",
        "\n",
        "A regra geral do teste de hipótese frequentista é: Não descartaremos $H_0$\n",
        "(e, portanto, não consideraremos $H_A$) a menos que o efeito observado seja pouco provável sob $H_0$."
      ]
    },
    {
      "cell_type": "markdown",
      "metadata": {
        "id": "_XfmlDpnSnDG"
      },
      "source": [
        "### Testando hipóteses usando intervalos de confiança.\n",
        "\n",
        "Podemos usar o conceito representado pelos intervalos de confiança para medir a plausibilidade de uma hipótese.\n",
        "\n",
        "Podemos ilustrar a avaliação da configuração das hipóteses comparando a\n",
        "taxa média de acidentes de trânsito em Barcelona durante 2010 e 2013 usando uma estimativa pontual da amostra de 2013:"
      ]
    },
    {
      "cell_type": "code",
      "execution_count": 1,
      "metadata": {
        "id": "f4i4s2Z_SnC1"
      },
      "outputs": [],
      "source": [
        "import matplotlib.pylab as plt\n",
        "from matplotlib import cm\n",
        "import math\n",
        "import pandas as pd\n",
        "import numpy as np\n",
        "import random\n",
        "\n",
        "%matplotlib inline\n",
        "plt.rc('xtick', labelsize=10)\n",
        "plt.rc('ytick', labelsize=10)\n",
        "plt.rc('font', size=12)"
      ]
    },
    {
      "cell_type": "code",
      "execution_count": 2,
      "metadata": {
        "id": "9sfhHvi6SnDG"
      },
      "outputs": [],
      "source": [
        "data = pd.read_csv(\"https://raw.githubusercontent.com/DataScienceUB/introduction-datascience-python-book/master/files/ch04/ACCIDENTS_GU_BCN_2010.csv\", encoding='latin-1')\n",
        "#Create a new column which is the date\n",
        "data['Date'] = data['Dia de mes'].apply(lambda x : str(x)) + '-' +  \\\n",
        "               data['Mes de any'].apply(lambda x : str(x))\n",
        "data2 = data['Date']\n",
        "counts2010 =data['Date'].value_counts()\n",
        "\n",
        "data = pd.read_csv(\"https://raw.githubusercontent.com/DataScienceUB/introduction-datascience-python-book/master/files/ch04/ACCIDENTS_GU_BCN_2013.csv\", encoding='latin-1')\n",
        "#Create a new column which is the date\n",
        "data['Date'] = data['Dia de mes'].apply(lambda x : str(x)) + '-' +  \\\n",
        "               data['Mes de any'].apply(lambda x : str(x))\n",
        "data2 = data['Date']\n",
        "counts2013 = data['Date'].value_counts()\n"
      ]
    },
    {
      "cell_type": "code",
      "source": [
        "counts2013"
      ],
      "metadata": {
        "colab": {
          "base_uri": "https://localhost:8080/"
        },
        "id": "0JVVCrualZT8",
        "outputId": "36c84d27-b0eb-4774-c8cb-93ee3e616013"
      },
      "execution_count": 3,
      "outputs": [
        {
          "output_type": "execute_result",
          "data": {
            "text/plain": [
              "Date\n",
              "19-12    48\n",
              "8-3      47\n",
              "23-4     46\n",
              "19-7     46\n",
              "13-12    46\n",
              "         ..\n",
              "3-8       9\n",
              "20-5      9\n",
              "25-8      9\n",
              "30-3      6\n",
              "3-11      5\n",
              "Name: count, Length: 365, dtype: int64"
            ]
          },
          "metadata": {},
          "execution_count": 3
        }
      ]
    },
    {
      "cell_type": "code",
      "source": [
        "# calcule a média de taxa de acidentes em cada um dos anos\n",
        "print(counts2010.mean())\n",
        "print(counts2013.mean())"
      ],
      "metadata": {
        "colab": {
          "base_uri": "https://localhost:8080/"
        },
        "id": "b9nCRCD_a_Te",
        "outputId": "1b8656e5-b0cf-4163-de20-adb1f11997ab"
      },
      "execution_count": 4,
      "outputs": [
        {
          "output_type": "stream",
          "name": "stdout",
          "text": [
            "24.81095890410959\n",
            "25.90958904109589\n"
          ]
        }
      ]
    },
    {
      "cell_type": "markdown",
      "metadata": {
        "id": "FESNae3HSnDG"
      },
      "source": [
        "Essa estimativa sugere que, em 2013, a taxa média de\n",
        "acidentes de trânsito em Barcelona **foi maior** do que em 2010. Mas esse efeito é estatisticamente significativo?\n",
        "\n",
        "Com base em nossa amostra, o intervalo de confiança de 95% para a taxa média de acidentes de trânsito em Barcelona em 2013 pode ser calculado como:\n",
        "\n",
        "$$\\bar{x} \\pm EP * z_{\\frac{\\alpha}{2}}$$\n",
        "\n",
        "Sendo que:\n",
        "  * $EP = \\frac{\\sigma}{\\sqrt{n}}$\n",
        "  * Para IC95, $z_{\\frac{\\alpha}{2}}$ corresponde a 1,96."
      ]
    },
    {
      "cell_type": "code",
      "execution_count": 5,
      "metadata": {
        "id": "W2OBwHIESnDH",
        "outputId": "7df371b6-502d-4f6a-857b-80c05ee2f80e",
        "colab": {
          "base_uri": "https://localhost:8080/"
        }
      },
      "outputs": [
        {
          "output_type": "execute_result",
          "data": {
            "text/plain": [
              "array([24.97515607, 26.84402202])"
            ]
          },
          "metadata": {},
          "execution_count": 5
        }
      ],
      "source": [
        "# Calcule o intervalo de confiança de 95% para a média da taxa de acidente em 2013.\n",
        "# A média estimada de 2010 está nesse intervalo?\n",
        "m = counts2013.mean()\n",
        "n = len(counts2013)\n",
        "s = counts2013.std()\n",
        "z = np.array([-1.96,1.96])\n",
        "ci = m + z*(s/n**0.5)\n",
        "ci\n"
      ]
    },
    {
      "cell_type": "markdown",
      "metadata": {
        "id": "dZ4NRwqySnDH"
      },
      "source": [
        "Como a estimativa da taxa de acidentes de 2010 não se enquadra no intervalo de valores plausíveis de 2013, dizemos que a hipótese alternativa não pode ser descartada. Ou seja, não se pode descartar o fato de que, em 2013, a taxa média de acidentes de trânsito em Barcelona foi maior do que em 2010."
      ]
    },
    {
      "cell_type": "markdown",
      "metadata": {
        "id": "kkcTjL4RSnDH"
      },
      "source": [
        "### Testando hipóteses usando valores P.\n",
        "\n",
        "Uma noção mais avançada de significância estatística foi desenvolvida por R. A. Fisher na década de 1920, ao procurar um teste para decidir se a variação no rendimento das colheitas era devida a alguma intervenção específica ou apenas a fatores aleatórios fora do controle experimental. Fisher primeiro presumiu que o fertilizante não causava diferença (hipótese nula) e, em seguida, calculou $P$, a probabilidade de que um rendimento observado em um campo fertilizado ocorreria se o fertilizante não tivesse efeito real. Essa probabilidade é chamada de **valor p**.\n",
        "\n",
        "O **valor p** é a probabilidade de observar o conjunto de dados observados ou mais extremos sobre a suposição de que a hipótese nula é verdadeira.\n",
        "\n",
        "Para aplicar um teste de hipóteses ao nosso problema, a primeira etapa é quantificar o tamanho do efeito aparente escolhendo uma estatística de teste. Em nosso caso, o efeito aparente é uma diferença nas taxas de acidentes.\n",
        "Portanto, uma escolha natural para a estatística de teste é a diferença entre as médias entre os dois períodos:"
      ]
    },
    {
      "cell_type": "code",
      "execution_count": 10,
      "metadata": {
        "colab": {
          "base_uri": "https://localhost:8080/"
        },
        "id": "uEk05FxgSnDH",
        "outputId": "a11ffd25-53ab-4536-b79e-e0a69158d219"
      },
      "outputs": [
        {
          "output_type": "execute_result",
          "data": {
            "text/plain": [
              "1.0986301369863014"
            ]
          },
          "metadata": {},
          "execution_count": 10
        }
      ],
      "source": [
        "# Calcule a diferença entre as médias estimadas de 2013 e 2010\n",
        "diffm = counts2013.mean() - counts2010.mean()\n",
        "diffm"
      ]
    },
    {
      "cell_type": "markdown",
      "metadata": {
        "id": "G_ji8XQfSnDI"
      },
      "source": [
        "A segunda etapa é definir uma hipótese nula, que é um modelo do sistema baseado na suposição de que o efeito aparente não é real. Em\n",
        "nosso caso, a hipótese nula é que não há diferença entre os dois\n",
        "períodos. A hipótese alternativa é que, em 2013, a taxa média de acidentes de trânsito em Barcelona foi maior do que em 2010. Podemos escrever as hipóteses desta forma:\n",
        "\n",
        "$$H_0: \\mu_{2013} - \\mu_{2010} = 0\\\\\n",
        "H_1: \\mu_{2013} - \\mu_{2010} > 0$$\n",
        "\n",
        "A terceira etapa é calcular um valor p, que é a probabilidade de ver\n",
        "o efeito aparente se a hipótese nula for verdadeira. Em nosso caso, nós\n",
        "calcularemos a diferença das médias e, em seguida, calcular a probabilidade de ver esta diferença, ou maior, sob a hipótese nula.\n",
        "\n",
        "Normalmente, se P valor for menor que 0,05 (a chance de um erro é menor que 5%), o resultado é declarado estatisticamente significativo.\n",
        "\n",
        "Para aproximar o valor de p, podemos utilizar a abordagem do bootstrapping e seguir os seguintes procedimentos:\n",
        "1. Junte os dois dados em um pool.\n",
        "2. Gere duas amostras com tamanho $n$ e calcule a diferença das médias entre eles.\n",
        "3. Conte quantas diferenças são maiores do que a observada"
      ]
    },
    {
      "cell_type": "code",
      "execution_count": 11,
      "metadata": {
        "id": "3_sRGEVnSnDI",
        "outputId": "a2a99a4e-1ca6-485b-e958-9605a068c46f",
        "colab": {
          "base_uri": "https://localhost:8080/",
          "height": 355
        }
      },
      "outputs": [
        {
          "output_type": "execute_result",
          "data": {
            "text/plain": [
              "Text(0.5, 1.0, 'Pooled distribution')"
            ]
          },
          "metadata": {},
          "execution_count": 11
        },
        {
          "output_type": "display_data",
          "data": {
            "text/plain": [
              "<Figure size 1200x300 with 1 Axes>"
            ],
            "image/png": "[encoded data removed]"
          },
          "metadata": {}
        }
      ],
      "source": [
        "# Junte os dois dados em um pool.\n",
        "x = counts2010\n",
        "y = counts2013\n",
        "pool =  pd.concat([x,y]) # coloque os dados concatenados nesta variável\n",
        "\n",
        "# em seguida, misture as linhas\n",
        "pool = pool.sample(frac=1)\n",
        "\n",
        "# Deixe o código abaixo\n",
        "fig, ax = plt.subplots(1, 1, figsize=(12, 3))\n",
        "plt.hist(pool,\n",
        "         bins = 25,\n",
        "         density = True)\n",
        "plt.ylabel('Frequency')\n",
        "plt.xlabel('Number of accidents')\n",
        "plt.title(\"Pooled distribution\")"
      ]
    },
    {
      "cell_type": "code",
      "execution_count": 34,
      "metadata": {
        "id": "yVDR0WRzSnDI",
        "outputId": "c19a62ae-0a7e-41df-b91d-96aa39b3f437",
        "colab": {
          "base_uri": "https://localhost:8080/",
          "height": 332
        }
      },
      "outputs": [
        {
          "output_type": "execute_result",
          "data": {
            "text/plain": [
              "Text(0.5, 0, 'Difference in the mean')"
            ]
          },
          "metadata": {},
          "execution_count": 34
        },
        {
          "output_type": "display_data",
          "data": {
            "text/plain": [
              "<Figure size 1200x300 with 1 Axes>"
            ],
            "image/png": "[encoded data removed]"
          },
          "metadata": {}
        }
      ],
      "source": [
        "# Faça 10000 reamostragens calculando para cada uma a diferença entre as médias\n",
        "# obs.: para cada reamostragem amostraremos duas amostras de tamanhos m e n do dado que está em pool.\n",
        "# A partir das duas amostras, calculamos a diferença entre as duas médias.\n",
        "N = 10000 # número de reamostragens\n",
        "m = len(counts2010) # tamanho da amostra de 2010\n",
        "n = len(counts2013) # tamanho da amostra de 2013\n",
        "diff = np.zeros(N) # armazene aqui as diferenças entre as amostras\n",
        "\n",
        "# complete o código aqui fazendo as reamostragens\n",
        "for i in range(N):\n",
        "    s1 = pool.sample(n,replace=True)\n",
        "    s2 = pool.sample(m, replace=True)\n",
        "    diff[i] = s1.mean() - s2.mean()\n",
        "\n",
        "\n",
        "# Deixe o código abaixo\n",
        "fig, ax = plt.subplots(1, 1, figsize=(12, 3))\n",
        "plt.hist(diff, density = True)\n",
        "plt.ylabel('Frequency')\n",
        "plt.xlabel('Difference in the mean')"
      ]
    },
    {
      "cell_type": "code",
      "source": [],
      "metadata": {
        "id": "nXvIv8W9hzM1"
      },
      "execution_count": null,
      "outputs": []
    },
    {
      "cell_type": "markdown",
      "source": [
        "rejeicao hipotese nula, rejeita as porcoes de 2,5% e 2,5% finais e iniciais, caso a hipotese seja > 0, todo os 5% passa para a parte final"
      ],
      "metadata": {
        "id": "2lF2bDNih0ea"
      }
    },
    {
      "cell_type": "code",
      "execution_count": 35,
      "metadata": {
        "id": "j2xoHJ7nSnDI",
        "outputId": "0fce103d-2cd4-4ada-b9d0-bc43ca7b60c0",
        "colab": {
          "base_uri": "https://localhost:8080/"
        }
      },
      "outputs": [
        {
          "output_type": "execute_result",
          "data": {
            "text/plain": [
              "458"
            ]
          },
          "metadata": {},
          "execution_count": 35
        }
      ],
      "source": [
        "# Determine a quantidade de diferenças que foi diferente a diferença observada.\n",
        "(diff > diffm).sum()"
      ]
    },
    {
      "cell_type": "markdown",
      "metadata": {
        "id": "i91pQf02SnDI"
      },
      "source": [
        "Se houver $k$ pares de amostras em que a diferença na média seja tão grande quanto ou maior que a diferença observada (1,098), o valor de p será aproximadamente $k/N$. No nosso caso:"
      ]
    },
    {
      "cell_type": "code",
      "execution_count": 36,
      "metadata": {
        "id": "-mrSpmXaSnDJ",
        "outputId": "02417bb7-90c3-4fe9-96e0-5e8009079ff7",
        "colab": {
          "base_uri": "https://localhost:8080/"
        }
      },
      "outputs": [
        {
          "output_type": "execute_result",
          "data": {
            "text/plain": [
              "0.0458"
            ]
          },
          "metadata": {},
          "execution_count": 36
        }
      ],
      "source": [
        "# Calcule o valor P\n",
        "(diff > diffm).sum()/N"
      ]
    },
    {
      "cell_type": "markdown",
      "metadata": {
        "id": "FrYVniyNSnDJ"
      },
      "source": [
        "Definimos o efeito como uma diferença na média é igual ou maior do que a diferença observada, levando em conta o sinal. Um teste como esse é chamado de *unilateral*.\n",
        "\n",
        "Se a questão relevante for se as médias de acidentes são diferentes, então faz sentido testar a diferença absoluta nas médias. Esse tipo de teste é chamado de *two-sided* (dois lados) porque ele conta os dois lados da distribuição das diferenças."
      ]
    },
    {
      "cell_type": "markdown",
      "source": [
        "## Exercício\n",
        "\n",
        "Os dados a seguir contém uma porção de dados da Pesquisa Nacional de Saúde e Nutrição, conhecida como NHANES. NHANES é uma grande pesquisa nacional realizada pelos Centros de Controle e Prevenção de Doenças (CDC) dos EUA. De acordo com o CDC, ele foi “projetado para avaliar a saúde e o estado nutricional de adultos e crianças nos Estados Unidos”. A ideia é que ela seja uma pesquisa nacionalmente representativa cujos resultados possam ser generalizados para a população americana. Além disso, o NHANES é extraordinariamente abrangente no que diz respeito às pesquisas de saúde, pois combina entrevistas e exames físicos.\n",
        "\n",
        "Aqui, veremos um subconjunto de 1.991 participantes da pesquisa da versão 2011-12 da pesquisa, com foco em algumas questões sobre sono e depressão. (O conjunto de dados completo tem mais informações do que você verá nestes dados.) O arquivo NHANES_sleep contém informações sobre gênero, idade, raça/etnia autodeclarada e status de propriedade da casa. Ele também contém algumas informações sobre saúde: 1) o número de horas auto-relatado que cada participante do estudo costuma passar à noite durante a semana ou dias de trabalho; 2) se o entrevistado fumou 100 ou mais cigarros na vida (sim ou não); e 3) a frequência autorreferida de dias por mês em que o participante se sentiu para baixo, deprimido ou sem esperança, onde as opções são “None”, “Several”, “Most” (mais da metade dos dias) ou “Almost all”."
      ],
      "metadata": {
        "id": "p9EYf0YtA08B"
      }
    },
    {
      "cell_type": "code",
      "source": [
        "data = pd.read_csv(\"https://bookdown.org/jgscott/DSGI/data/NHANES_sleep.csv\")\n",
        "data"
      ],
      "metadata": {
        "id": "oYXpafUlCDFP",
        "outputId": "449db498-c09b-4f70-c192-17de14b0b579",
        "colab": {
          "base_uri": "https://localhost:8080/",
          "height": 424
        }
      },
      "execution_count": 15,
      "outputs": [
        {
          "output_type": "execute_result",
          "data": {
            "text/plain": [
              "      SleepHrsNight  Gender  Age Race_Ethnicity HomeOwn Depressed Smoke100\n",
              "0                 4  female   56          Black     Own       NaN      Yes\n",
              "1                 7    male   34     White (NH)    Rent       NaN       No\n",
              "2                 7    male   27     White (NH)    Rent       NaN       No\n",
              "3                 9    male   50     White (NH)     Own       NaN       No\n",
              "4                 6    male   80          Black    Rent       NaN       No\n",
              "...             ...     ...  ...            ...     ...       ...      ...\n",
              "1986              5  female   23          Black     Own       NaN       No\n",
              "1987              8  female   39     White (NH)     Own       NaN      Yes\n",
              "1988              6  female   55     White (NH)    Rent   Several       No\n",
              "1989              4  female   23          Black     Own      Most       No\n",
              "1990              8  female   43     White (NH)     Own       NaN       No\n",
              "\n",
              "[1991 rows x 7 columns]"
            ],
            "text/html": [
              "\n",
              "  <div id=\"df-585d9265-3f91-475d-b080-cf0eb8c41213\" class=\"colab-df-container\">\n",
              "    <div>\n",
              "<style scoped>\n",
              "    .dataframe tbody tr th:only-of-type {\n",
              "        vertical-align: middle;\n",
              "    }\n",
              "\n",
              "    .dataframe tbody tr th {\n",
              "        vertical-align: top;\n",
              "    }\n",
              "\n",
              "    .dataframe thead th {\n",
              "        text-align: right;\n",
              "    }\n",
              "</style>\n",
              "<table border=\"1\" class=\"dataframe\">\n",
              "  <thead>\n",
              "    <tr style=\"text-align: right;\">\n",
              "      <th></th>\n",
              "      <th>SleepHrsNight</th>\n",
              "      <th>Gender</th>\n",
              "      <th>Age</th>\n",
              "      <th>Race_Ethnicity</th>\n",
              "      <th>HomeOwn</th>\n",
              "      <th>Depressed</th>\n",
              "      <th>Smoke100</th>\n",
              "    </tr>\n",
              "  </thead>\n",
              "  <tbody>\n",
              "    <tr>\n",
              "      <th>0</th>\n",
              "      <td>4</td>\n",
              "      <td>female</td>\n",
              "      <td>56</td>\n",
              "      <td>Black</td>\n",
              "      <td>Own</td>\n",
              "      <td>NaN</td>\n",
              "      <td>Yes</td>\n",
              "    </tr>\n",
              "    <tr>\n",
              "      <th>1</th>\n",
              "      <td>7</td>\n",
              "      <td>male</td>\n",
              "      <td>34</td>\n",
              "      <td>White (NH)</td>\n",
              "      <td>Rent</td>\n",
              "      <td>NaN</td>\n",
              "      <td>No</td>\n",
              "    </tr>\n",
              "    <tr>\n",
              "      <th>2</th>\n",
              "      <td>7</td>\n",
              "      <td>male</td>\n",
              "      <td>27</td>\n",
              "      <td>White (NH)</td>\n",
              "      <td>Rent</td>\n",
              "      <td>NaN</td>\n",
              "      <td>No</td>\n",
              "    </tr>\n",
              "    <tr>\n",
              "      <th>3</th>\n",
              "      <td>9</td>\n",
              "      <td>male</td>\n",
              "      <td>50</td>\n",
              "      <td>White (NH)</td>\n",
              "      <td>Own</td>\n",
              "      <td>NaN</td>\n",
              "      <td>No</td>\n",
              "    </tr>\n",
              "    <tr>\n",
              "      <th>4</th>\n",
              "      <td>6</td>\n",
              "      <td>male</td>\n",
              "      <td>80</td>\n",
              "      <td>Black</td>\n",
              "      <td>Rent</td>\n",
              "      <td>NaN</td>\n",
              "      <td>No</td>\n",
              "    </tr>\n",
              "    <tr>\n",
              "      <th>...</th>\n",
              "      <td>...</td>\n",
              "      <td>...</td>\n",
              "      <td>...</td>\n",
              "      <td>...</td>\n",
              "      <td>...</td>\n",
              "      <td>...</td>\n",
              "      <td>...</td>\n",
              "    </tr>\n",
              "    <tr>\n",
              "      <th>1986</th>\n",
              "      <td>5</td>\n",
              "      <td>female</td>\n",
              "      <td>23</td>\n",
              "      <td>Black</td>\n",
              "      <td>Own</td>\n",
              "      <td>NaN</td>\n",
              "      <td>No</td>\n",
              "    </tr>\n",
              "    <tr>\n",
              "      <th>1987</th>\n",
              "      <td>8</td>\n",
              "      <td>female</td>\n",
              "      <td>39</td>\n",
              "      <td>White (NH)</td>\n",
              "      <td>Own</td>\n",
              "      <td>NaN</td>\n",
              "      <td>Yes</td>\n",
              "    </tr>\n",
              "    <tr>\n",
              "      <th>1988</th>\n",
              "      <td>6</td>\n",
              "      <td>female</td>\n",
              "      <td>55</td>\n",
              "      <td>White (NH)</td>\n",
              "      <td>Rent</td>\n",
              "      <td>Several</td>\n",
              "      <td>No</td>\n",
              "    </tr>\n",
              "    <tr>\n",
              "      <th>1989</th>\n",
              "      <td>4</td>\n",
              "      <td>female</td>\n",
              "      <td>23</td>\n",
              "      <td>Black</td>\n",
              "      <td>Own</td>\n",
              "      <td>Most</td>\n",
              "      <td>No</td>\n",
              "    </tr>\n",
              "    <tr>\n",
              "      <th>1990</th>\n",
              "      <td>8</td>\n",
              "      <td>female</td>\n",
              "      <td>43</td>\n",
              "      <td>White (NH)</td>\n",
              "      <td>Own</td>\n",
              "      <td>NaN</td>\n",
              "      <td>No</td>\n",
              "    </tr>\n",
              "  </tbody>\n",
              "</table>\n",
              "<p>1991 rows × 7 columns</p>\n",
              "</div>\n",
              "    <div class=\"colab-df-buttons\">\n",
              "\n",
              "  <div class=\"colab-df-container\">\n",
              "    <button class=\"colab-df-convert\" onclick=\"convertToInteractive('df-585d9265-3f91-475d-b080-cf0eb8c41213')\"\n",
              "            title=\"Convert this dataframe to an interactive table.\"\n",
              "            style=\"display:none;\">\n",
              "\n",
              "  <svg xmlns=\"http://www.w3.org/2000/svg\" height=\"24px\" viewBox=\"0 -960 960 960\">\n",
              "    <path d=\"M120-120v-720h720v720H120Zm60-500h600v-160H180v160Zm220 220h160v-160H400v160Zm0 220h160v-160H400v160ZM180-400h160v-160H180v160Zm440 0h160v-160H620v160ZM180-180h160v-160H180v160Zm440 0h160v-160H620v160Z\"/>\n",
              "  </svg>\n",
              "    </button>\n",
              "\n",
              "  <style>\n",
              "    .colab-df-container {\n",
              "      display:flex;\n",
              "      gap: 12px;\n",
              "    }\n",
              "\n",
              "    .colab-df-convert {\n",
              "      background-color: #E8F0FE;\n",
              "      border: none;\n",
              "      border-radius: 50%;\n",
              "      cursor: pointer;\n",
              "      display: none;\n",
              "      fill: #1967D2;\n",
              "      height: 32px;\n",
              "      padding: 0 0 0 0;\n",
              "      width: 32px;\n",
              "    }\n",
              "\n",
              "    .colab-df-convert:hover {\n",
              "      background-color: #E2EBFA;\n",
              "      box-shadow: 0px 1px 2px rgba(60, 64, 67, 0.3), 0px 1px 3px 1px rgba(60, 64, 67, 0.15);\n",
              "      fill: #174EA6;\n",
              "    }\n",
              "\n",
              "    .colab-df-buttons div {\n",
              "      margin-bottom: 4px;\n",
              "    }\n",
              "\n",
              "    [theme=dark] .colab-df-convert {\n",
              "      background-color: #3B4455;\n",
              "      fill: #D2E3FC;\n",
              "    }\n",
              "\n",
              "    [theme=dark] .colab-df-convert:hover {\n",
              "      background-color: #434B5C;\n",
              "      box-shadow: 0px 1px 3px 1px rgba(0, 0, 0, 0.15);\n",
              "      filter: drop-shadow(0px 1px 2px rgba(0, 0, 0, 0.3));\n",
              "      fill: #FFFFFF;\n",
              "    }\n",
              "  </style>\n",
              "\n",
              "    <script>\n",
              "      const buttonEl =\n",
              "        document.querySelector('#df-585d9265-3f91-475d-b080-cf0eb8c41213 button.colab-df-convert');\n",
              "      buttonEl.style.display =\n",
              "        google.colab.kernel.accessAllowed ? 'block' : 'none';\n",
              "\n",
              "      async function convertToInteractive(key) {\n",
              "        const element = document.querySelector('#df-585d9265-3f91-475d-b080-cf0eb8c41213');\n",
              "        const dataTable =\n",
              "          await google.colab.kernel.invokeFunction('convertToInteractive',\n",
              "                                                    [key], {});\n",
              "        if (!dataTable) return;\n",
              "\n",
              "        const docLinkHtml = 'Like what you see? Visit the ' +\n",
              "          '<a target=\"_blank\" href=https://colab.research.google.com/notebooks/data_table.ipynb>data table notebook</a>'\n",
              "          + ' to learn more about interactive tables.';\n",
              "        element.innerHTML = '';\n",
              "        dataTable['output_type'] = 'display_data';\n",
              "        await google.colab.output.renderOutput(dataTable, element);\n",
              "        const docLink = document.createElement('div');\n",
              "        docLink.innerHTML = docLinkHtml;\n",
              "        element.appendChild(docLink);\n",
              "      }\n",
              "    </script>\n",
              "  </div>\n",
              "\n",
              "\n",
              "<div id=\"df-d2f5dd31-3f76-41d6-925e-6906315591c1\">\n",
              "  <button class=\"colab-df-quickchart\" onclick=\"quickchart('df-d2f5dd31-3f76-41d6-925e-6906315591c1')\"\n",
              "            title=\"Suggest charts\"\n",
              "            style=\"display:none;\">\n",
              "\n",
              "<svg xmlns=\"http://www.w3.org/2000/svg\" height=\"24px\"viewBox=\"0 0 24 24\"\n",
              "     width=\"24px\">\n",
              "    <g>\n",
              "        <path d=\"M19 3H5c-1.1 0-2 .9-2 2v14c0 1.1.9 2 2 2h14c1.1 0 2-.9 2-2V5c0-1.1-.9-2-2-2zM9 17H7v-7h2v7zm4 0h-2V7h2v10zm4 0h-2v-4h2v4z\"/>\n",
              "    </g>\n",
              "</svg>\n",
              "  </button>\n",
              "\n",
              "<style>\n",
              "  .colab-df-quickchart {\n",
              "      --bg-color: #E8F0FE;\n",
              "      --fill-color: #1967D2;\n",
              "      --hover-bg-color: #E2EBFA;\n",
              "      --hover-fill-color: #174EA6;\n",
              "      --disabled-fill-color: #AAA;\n",
              "      --disabled-bg-color: #DDD;\n",
              "  }\n",
              "\n",
              "  [theme=dark] .colab-df-quickchart {\n",
              "      --bg-color: #3B4455;\n",
              "      --fill-color: #D2E3FC;\n",
              "      --hover-bg-color: #434B5C;\n",
              "      --hover-fill-color: #FFFFFF;\n",
              "      --disabled-bg-color: #3B4455;\n",
              "      --disabled-fill-color: #666;\n",
              "  }\n",
              "\n",
              "  .colab-df-quickchart {\n",
              "    background-color: var(--bg-color);\n",
              "    border: none;\n",
              "    border-radius: 50%;\n",
              "    cursor: pointer;\n",
              "    display: none;\n",
              "    fill: var(--fill-color);\n",
              "    height: 32px;\n",
              "    padding: 0;\n",
              "    width: 32px;\n",
              "  }\n",
              "\n",
              "  .colab-df-quickchart:hover {\n",
              "    background-color: var(--hover-bg-color);\n",
              "    box-shadow: 0 1px 2px rgba(60, 64, 67, 0.3), 0 1px 3px 1px rgba(60, 64, 67, 0.15);\n",
              "    fill: var(--button-hover-fill-color);\n",
              "  }\n",
              "\n",
              "  .colab-df-quickchart-complete:disabled,\n",
              "  .colab-df-quickchart-complete:disabled:hover {\n",
              "    background-color: var(--disabled-bg-color);\n",
              "    fill: var(--disabled-fill-color);\n",
              "    box-shadow: none;\n",
              "  }\n",
              "\n",
              "  .colab-df-spinner {\n",
              "    border: 2px solid var(--fill-color);\n",
              "    border-color: transparent;\n",
              "    border-bottom-color: var(--fill-color);\n",
              "    animation:\n",
              "      spin 1s steps(1) infinite;\n",
              "  }\n",
              "\n",
              "  @keyframes spin {\n",
              "    0% {\n",
              "      border-color: transparent;\n",
              "      border-bottom-color: var(--fill-color);\n",
              "      border-left-color: var(--fill-color);\n",
              "    }\n",
              "    20% {\n",
              "      border-color: transparent;\n",
              "      border-left-color: var(--fill-color);\n",
              "      border-top-color: var(--fill-color);\n",
              "    }\n",
              "    30% {\n",
              "      border-color: transparent;\n",
              "      border-left-color: var(--fill-color);\n",
              "      border-top-color: var(--fill-color);\n",
              "      border-right-color: var(--fill-color);\n",
              "    }\n",
              "    40% {\n",
              "      border-color: transparent;\n",
              "      border-right-color: var(--fill-color);\n",
              "      border-top-color: var(--fill-color);\n",
              "    }\n",
              "    60% {\n",
              "      border-color: transparent;\n",
              "      border-right-color: var(--fill-color);\n",
              "    }\n",
              "    80% {\n",
              "      border-color: transparent;\n",
              "      border-right-color: var(--fill-color);\n",
              "      border-bottom-color: var(--fill-color);\n",
              "    }\n",
              "    90% {\n",
              "      border-color: transparent;\n",
              "      border-bottom-color: var(--fill-color);\n",
              "    }\n",
              "  }\n",
              "</style>\n",
              "\n",
              "  <script>\n",
              "    async function quickchart(key) {\n",
              "      const quickchartButtonEl =\n",
              "        document.querySelector('#' + key + ' button');\n",
              "      quickchartButtonEl.disabled = true;  // To prevent multiple clicks.\n",
              "      quickchartButtonEl.classList.add('colab-df-spinner');\n",
              "      try {\n",
              "        const charts = await google.colab.kernel.invokeFunction(\n",
              "            'suggestCharts', [key], {});\n",
              "      } catch (error) {\n",
              "        console.error('Error during call to suggestCharts:', error);\n",
              "      }\n",
              "      quickchartButtonEl.classList.remove('colab-df-spinner');\n",
              "      quickchartButtonEl.classList.add('colab-df-quickchart-complete');\n",
              "    }\n",
              "    (() => {\n",
              "      let quickchartButtonEl =\n",
              "        document.querySelector('#df-d2f5dd31-3f76-41d6-925e-6906315591c1 button');\n",
              "      quickchartButtonEl.style.display =\n",
              "        google.colab.kernel.accessAllowed ? 'block' : 'none';\n",
              "    })();\n",
              "  </script>\n",
              "</div>\n",
              "\n",
              "  <div id=\"id_6feddef7-5ffd-4b22-9a87-f75a847f6050\">\n",
              "    <style>\n",
              "      .colab-df-generate {\n",
              "        background-color: #E8F0FE;\n",
              "        border: none;\n",
              "        border-radius: 50%;\n",
              "        cursor: pointer;\n",
              "        display: none;\n",
              "        fill: #1967D2;\n",
              "        height: 32px;\n",
              "        padding: 0 0 0 0;\n",
              "        width: 32px;\n",
              "      }\n",
              "\n",
              "      .colab-df-generate:hover {\n",
              "        background-color: #E2EBFA;\n",
              "        box-shadow: 0px 1px 2px rgba(60, 64, 67, 0.3), 0px 1px 3px 1px rgba(60, 64, 67, 0.15);\n",
              "        fill: #174EA6;\n",
              "      }\n",
              "\n",
              "      [theme=dark] .colab-df-generate {\n",
              "        background-color: #3B4455;\n",
              "        fill: #D2E3FC;\n",
              "      }\n",
              "\n",
              "      [theme=dark] .colab-df-generate:hover {\n",
              "        background-color: #434B5C;\n",
              "        box-shadow: 0px 1px 3px 1px rgba(0, 0, 0, 0.15);\n",
              "        filter: drop-shadow(0px 1px 2px rgba(0, 0, 0, 0.3));\n",
              "        fill: #FFFFFF;\n",
              "      }\n",
              "    </style>\n",
              "    <button class=\"colab-df-generate\" onclick=\"generateWithVariable('data')\"\n",
              "            title=\"Generate code using this dataframe.\"\n",
              "            style=\"display:none;\">\n",
              "\n",
              "  <svg xmlns=\"http://www.w3.org/2000/svg\" height=\"24px\"viewBox=\"0 0 24 24\"\n",
              "       width=\"24px\">\n",
              "    <path d=\"M7,19H8.4L18.45,9,17,7.55,7,17.6ZM5,21V16.75L18.45,3.32a2,2,0,0,1,2.83,0l1.4,1.43a1.91,1.91,0,0,1,.58,1.4,1.91,1.91,0,0,1-.58,1.4L9.25,21ZM18.45,9,17,7.55Zm-12,3A5.31,5.31,0,0,0,4.9,8.1,5.31,5.31,0,0,0,1,6.5,5.31,5.31,0,0,0,4.9,4.9,5.31,5.31,0,0,0,6.5,1,5.31,5.31,0,0,0,8.1,4.9,5.31,5.31,0,0,0,12,6.5,5.46,5.46,0,0,0,6.5,12Z\"/>\n",
              "  </svg>\n",
              "    </button>\n",
              "    <script>\n",
              "      (() => {\n",
              "      const buttonEl =\n",
              "        document.querySelector('#id_6feddef7-5ffd-4b22-9a87-f75a847f6050 button.colab-df-generate');\n",
              "      buttonEl.style.display =\n",
              "        google.colab.kernel.accessAllowed ? 'block' : 'none';\n",
              "\n",
              "      buttonEl.onclick = () => {\n",
              "        google.colab.notebook.generateWithVariable('data');\n",
              "      }\n",
              "      })();\n",
              "    </script>\n",
              "  </div>\n",
              "\n",
              "    </div>\n",
              "  </div>\n"
            ],
            "application/vnd.google.colaboratory.intrinsic+json": {
              "type": "dataframe",
              "variable_name": "data",
              "summary": "{\n  \"name\": \"data\",\n  \"rows\": 1991,\n  \"fields\": [\n    {\n      \"column\": \"SleepHrsNight\",\n      \"properties\": {\n        \"dtype\": \"number\",\n        \"std\": 1,\n        \"min\": 2,\n        \"max\": 12,\n        \"num_unique_values\": 11,\n        \"samples\": [\n          5,\n          4,\n          11\n        ],\n        \"semantic_type\": \"\",\n        \"description\": \"\"\n      }\n    },\n    {\n      \"column\": \"Gender\",\n      \"properties\": {\n        \"dtype\": \"category\",\n        \"num_unique_values\": 2,\n        \"samples\": [\n          \"male\",\n          \"female\"\n        ],\n        \"semantic_type\": \"\",\n        \"description\": \"\"\n      }\n    },\n    {\n      \"column\": \"Age\",\n      \"properties\": {\n        \"dtype\": \"number\",\n        \"std\": 17,\n        \"min\": 20,\n        \"max\": 80,\n        \"num_unique_values\": 61,\n        \"samples\": [\n          56,\n          26\n        ],\n        \"semantic_type\": \"\",\n        \"description\": \"\"\n      }\n    },\n    {\n      \"column\": \"Race_Ethnicity\",\n      \"properties\": {\n        \"dtype\": \"category\",\n        \"num_unique_values\": 5,\n        \"samples\": [\n          \"White (NH)\",\n          \"Other\"\n        ],\n        \"semantic_type\": \"\",\n        \"description\": \"\"\n      }\n    },\n    {\n      \"column\": \"HomeOwn\",\n      \"properties\": {\n        \"dtype\": \"category\",\n        \"num_unique_values\": 3,\n        \"samples\": [\n          \"Own\",\n          \"Rent\"\n        ],\n        \"semantic_type\": \"\",\n        \"description\": \"\"\n      }\n    },\n    {\n      \"column\": \"Depressed\",\n      \"properties\": {\n        \"dtype\": \"category\",\n        \"num_unique_values\": 2,\n        \"samples\": [\n          \"Most\",\n          \"Several\"\n        ],\n        \"semantic_type\": \"\",\n        \"description\": \"\"\n      }\n    },\n    {\n      \"column\": \"Smoke100\",\n      \"properties\": {\n        \"dtype\": \"category\",\n        \"num_unique_values\": 2,\n        \"samples\": [\n          \"No\",\n          \"Yes\"\n        ],\n        \"semantic_type\": \"\",\n        \"description\": \"\"\n      }\n    }\n  ]\n}"
            }
          },
          "metadata": {},
          "execution_count": 15
        }
      ]
    },
    {
      "cell_type": "code",
      "source": [
        "data.describe(include=\"all\")"
      ],
      "metadata": {
        "id": "NjY_0dJoDVCV",
        "outputId": "036f932d-8451-47d0-d1aa-123629b45eca",
        "colab": {
          "base_uri": "https://localhost:8080/",
          "height": 394
        }
      },
      "execution_count": 16,
      "outputs": [
        {
          "output_type": "execute_result",
          "data": {
            "text/plain": [
              "        SleepHrsNight Gender          Age Race_Ethnicity HomeOwn Depressed  \\\n",
              "count     1991.000000   1991  1991.000000           1991    1991       405   \n",
              "unique            NaN      2          NaN              5       3         2   \n",
              "top               NaN   male          NaN     White (NH)     Own   Several   \n",
              "freq              NaN   1006          NaN           1367    1283       274   \n",
              "mean         6.878955    NaN    48.127072            NaN     NaN       NaN   \n",
              "std          1.317419    NaN    17.180169            NaN     NaN       NaN   \n",
              "min          2.000000    NaN    20.000000            NaN     NaN       NaN   \n",
              "25%          6.000000    NaN    33.000000            NaN     NaN       NaN   \n",
              "50%          7.000000    NaN    48.000000            NaN     NaN       NaN   \n",
              "75%          8.000000    NaN    61.000000            NaN     NaN       NaN   \n",
              "max         12.000000    NaN    80.000000            NaN     NaN       NaN   \n",
              "\n",
              "       Smoke100  \n",
              "count      1991  \n",
              "unique        2  \n",
              "top          No  \n",
              "freq       1105  \n",
              "mean        NaN  \n",
              "std         NaN  \n",
              "min         NaN  \n",
              "25%         NaN  \n",
              "50%         NaN  \n",
              "75%         NaN  \n",
              "max         NaN  "
            ],
            "text/html": [
              "\n",
              "  <div id=\"df-0f11a677-371b-4357-a08a-e5746b6f7f9b\" class=\"colab-df-container\">\n",
              "    <div>\n",
              "<style scoped>\n",
              "    .dataframe tbody tr th:only-of-type {\n",
              "        vertical-align: middle;\n",
              "    }\n",
              "\n",
              "    .dataframe tbody tr th {\n",
              "        vertical-align: top;\n",
              "    }\n",
              "\n",
              "    .dataframe thead th {\n",
              "        text-align: right;\n",
              "    }\n",
              "</style>\n",
              "<table border=\"1\" class=\"dataframe\">\n",
              "  <thead>\n",
              "    <tr style=\"text-align: right;\">\n",
              "      <th></th>\n",
              "      <th>SleepHrsNight</th>\n",
              "      <th>Gender</th>\n",
              "      <th>Age</th>\n",
              "      <th>Race_Ethnicity</th>\n",
              "      <th>HomeOwn</th>\n",
              "      <th>Depressed</th>\n",
              "      <th>Smoke100</th>\n",
              "    </tr>\n",
              "  </thead>\n",
              "  <tbody>\n",
              "    <tr>\n",
              "      <th>count</th>\n",
              "      <td>1991.000000</td>\n",
              "      <td>1991</td>\n",
              "      <td>1991.000000</td>\n",
              "      <td>1991</td>\n",
              "      <td>1991</td>\n",
              "      <td>405</td>\n",
              "      <td>1991</td>\n",
              "    </tr>\n",
              "    <tr>\n",
              "      <th>unique</th>\n",
              "      <td>NaN</td>\n",
              "      <td>2</td>\n",
              "      <td>NaN</td>\n",
              "      <td>5</td>\n",
              "      <td>3</td>\n",
              "      <td>2</td>\n",
              "      <td>2</td>\n",
              "    </tr>\n",
              "    <tr>\n",
              "      <th>top</th>\n",
              "      <td>NaN</td>\n",
              "      <td>male</td>\n",
              "      <td>NaN</td>\n",
              "      <td>White (NH)</td>\n",
              "      <td>Own</td>\n",
              "      <td>Several</td>\n",
              "      <td>No</td>\n",
              "    </tr>\n",
              "    <tr>\n",
              "      <th>freq</th>\n",
              "      <td>NaN</td>\n",
              "      <td>1006</td>\n",
              "      <td>NaN</td>\n",
              "      <td>1367</td>\n",
              "      <td>1283</td>\n",
              "      <td>274</td>\n",
              "      <td>1105</td>\n",
              "    </tr>\n",
              "    <tr>\n",
              "      <th>mean</th>\n",
              "      <td>6.878955</td>\n",
              "      <td>NaN</td>\n",
              "      <td>48.127072</td>\n",
              "      <td>NaN</td>\n",
              "      <td>NaN</td>\n",
              "      <td>NaN</td>\n",
              "      <td>NaN</td>\n",
              "    </tr>\n",
              "    <tr>\n",
              "      <th>std</th>\n",
              "      <td>1.317419</td>\n",
              "      <td>NaN</td>\n",
              "      <td>17.180169</td>\n",
              "      <td>NaN</td>\n",
              "      <td>NaN</td>\n",
              "      <td>NaN</td>\n",
              "      <td>NaN</td>\n",
              "    </tr>\n",
              "    <tr>\n",
              "      <th>min</th>\n",
              "      <td>2.000000</td>\n",
              "      <td>NaN</td>\n",
              "      <td>20.000000</td>\n",
              "      <td>NaN</td>\n",
              "      <td>NaN</td>\n",
              "      <td>NaN</td>\n",
              "      <td>NaN</td>\n",
              "    </tr>\n",
              "    <tr>\n",
              "      <th>25%</th>\n",
              "      <td>6.000000</td>\n",
              "      <td>NaN</td>\n",
              "      <td>33.000000</td>\n",
              "      <td>NaN</td>\n",
              "      <td>NaN</td>\n",
              "      <td>NaN</td>\n",
              "      <td>NaN</td>\n",
              "    </tr>\n",
              "    <tr>\n",
              "      <th>50%</th>\n",
              "      <td>7.000000</td>\n",
              "      <td>NaN</td>\n",
              "      <td>48.000000</td>\n",
              "      <td>NaN</td>\n",
              "      <td>NaN</td>\n",
              "      <td>NaN</td>\n",
              "      <td>NaN</td>\n",
              "    </tr>\n",
              "    <tr>\n",
              "      <th>75%</th>\n",
              "      <td>8.000000</td>\n",
              "      <td>NaN</td>\n",
              "      <td>61.000000</td>\n",
              "      <td>NaN</td>\n",
              "      <td>NaN</td>\n",
              "      <td>NaN</td>\n",
              "      <td>NaN</td>\n",
              "    </tr>\n",
              "    <tr>\n",
              "      <th>max</th>\n",
              "      <td>12.000000</td>\n",
              "      <td>NaN</td>\n",
              "      <td>80.000000</td>\n",
              "      <td>NaN</td>\n",
              "      <td>NaN</td>\n",
              "      <td>NaN</td>\n",
              "      <td>NaN</td>\n",
              "    </tr>\n",
              "  </tbody>\n",
              "</table>\n",
              "</div>\n",
              "    <div class=\"colab-df-buttons\">\n",
              "\n",
              "  <div class=\"colab-df-container\">\n",
              "    <button class=\"colab-df-convert\" onclick=\"convertToInteractive('df-0f11a677-371b-4357-a08a-e5746b6f7f9b')\"\n",
              "            title=\"Convert this dataframe to an interactive table.\"\n",
              "            style=\"display:none;\">\n",
              "\n",
              "  <svg xmlns=\"http://www.w3.org/2000/svg\" height=\"24px\" viewBox=\"0 -960 960 960\">\n",
              "    <path d=\"M120-120v-720h720v720H120Zm60-500h600v-160H180v160Zm220 220h160v-160H400v160Zm0 220h160v-160H400v160ZM180-400h160v-160H180v160Zm440 0h160v-160H620v160ZM180-180h160v-160H180v160Zm440 0h160v-160H620v160Z\"/>\n",
              "  </svg>\n",
              "    </button>\n",
              "\n",
              "  <style>\n",
              "    .colab-df-container {\n",
              "      display:flex;\n",
              "      gap: 12px;\n",
              "    }\n",
              "\n",
              "    .colab-df-convert {\n",
              "      background-color: #E8F0FE;\n",
              "      border: none;\n",
              "      border-radius: 50%;\n",
              "      cursor: pointer;\n",
              "      display: none;\n",
              "      fill: #1967D2;\n",
              "      height: 32px;\n",
              "      padding: 0 0 0 0;\n",
              "      width: 32px;\n",
              "    }\n",
              "\n",
              "    .colab-df-convert:hover {\n",
              "      background-color: #E2EBFA;\n",
              "      box-shadow: 0px 1px 2px rgba(60, 64, 67, 0.3), 0px 1px 3px 1px rgba(60, 64, 67, 0.15);\n",
              "      fill: #174EA6;\n",
              "    }\n",
              "\n",
              "    .colab-df-buttons div {\n",
              "      margin-bottom: 4px;\n",
              "    }\n",
              "\n",
              "    [theme=dark] .colab-df-convert {\n",
              "      background-color: #3B4455;\n",
              "      fill: #D2E3FC;\n",
              "    }\n",
              "\n",
              "    [theme=dark] .colab-df-convert:hover {\n",
              "      background-color: #434B5C;\n",
              "      box-shadow: 0px 1px 3px 1px rgba(0, 0, 0, 0.15);\n",
              "      filter: drop-shadow(0px 1px 2px rgba(0, 0, 0, 0.3));\n",
              "      fill: #FFFFFF;\n",
              "    }\n",
              "  </style>\n",
              "\n",
              "    <script>\n",
              "      const buttonEl =\n",
              "        document.querySelector('#df-0f11a677-371b-4357-a08a-e5746b6f7f9b button.colab-df-convert');\n",
              "      buttonEl.style.display =\n",
              "        google.colab.kernel.accessAllowed ? 'block' : 'none';\n",
              "\n",
              "      async function convertToInteractive(key) {\n",
              "        const element = document.querySelector('#df-0f11a677-371b-4357-a08a-e5746b6f7f9b');\n",
              "        const dataTable =\n",
              "          await google.colab.kernel.invokeFunction('convertToInteractive',\n",
              "                                                    [key], {});\n",
              "        if (!dataTable) return;\n",
              "\n",
              "        const docLinkHtml = 'Like what you see? Visit the ' +\n",
              "          '<a target=\"_blank\" href=https://colab.research.google.com/notebooks/data_table.ipynb>data table notebook</a>'\n",
              "          + ' to learn more about interactive tables.';\n",
              "        element.innerHTML = '';\n",
              "        dataTable['output_type'] = 'display_data';\n",
              "        await google.colab.output.renderOutput(dataTable, element);\n",
              "        const docLink = document.createElement('div');\n",
              "        docLink.innerHTML = docLinkHtml;\n",
              "        element.appendChild(docLink);\n",
              "      }\n",
              "    </script>\n",
              "  </div>\n",
              "\n",
              "\n",
              "<div id=\"df-f9ecbd08-8bbc-4fd2-ae7a-77422015dfcb\">\n",
              "  <button class=\"colab-df-quickchart\" onclick=\"quickchart('df-f9ecbd08-8bbc-4fd2-ae7a-77422015dfcb')\"\n",
              "            title=\"Suggest charts\"\n",
              "            style=\"display:none;\">\n",
              "\n",
              "<svg xmlns=\"http://www.w3.org/2000/svg\" height=\"24px\"viewBox=\"0 0 24 24\"\n",
              "     width=\"24px\">\n",
              "    <g>\n",
              "        <path d=\"M19 3H5c-1.1 0-2 .9-2 2v14c0 1.1.9 2 2 2h14c1.1 0 2-.9 2-2V5c0-1.1-.9-2-2-2zM9 17H7v-7h2v7zm4 0h-2V7h2v10zm4 0h-2v-4h2v4z\"/>\n",
              "    </g>\n",
              "</svg>\n",
              "  </button>\n",
              "\n",
              "<style>\n",
              "  .colab-df-quickchart {\n",
              "      --bg-color: #E8F0FE;\n",
              "      --fill-color: #1967D2;\n",
              "      --hover-bg-color: #E2EBFA;\n",
              "      --hover-fill-color: #174EA6;\n",
              "      --disabled-fill-color: #AAA;\n",
              "      --disabled-bg-color: #DDD;\n",
              "  }\n",
              "\n",
              "  [theme=dark] .colab-df-quickchart {\n",
              "      --bg-color: #3B4455;\n",
              "      --fill-color: #D2E3FC;\n",
              "      --hover-bg-color: #434B5C;\n",
              "      --hover-fill-color: #FFFFFF;\n",
              "      --disabled-bg-color: #3B4455;\n",
              "      --disabled-fill-color: #666;\n",
              "  }\n",
              "\n",
              "  .colab-df-quickchart {\n",
              "    background-color: var(--bg-color);\n",
              "    border: none;\n",
              "    border-radius: 50%;\n",
              "    cursor: pointer;\n",
              "    display: none;\n",
              "    fill: var(--fill-color);\n",
              "    height: 32px;\n",
              "    padding: 0;\n",
              "    width: 32px;\n",
              "  }\n",
              "\n",
              "  .colab-df-quickchart:hover {\n",
              "    background-color: var(--hover-bg-color);\n",
              "    box-shadow: 0 1px 2px rgba(60, 64, 67, 0.3), 0 1px 3px 1px rgba(60, 64, 67, 0.15);\n",
              "    fill: var(--button-hover-fill-color);\n",
              "  }\n",
              "\n",
              "  .colab-df-quickchart-complete:disabled,\n",
              "  .colab-df-quickchart-complete:disabled:hover {\n",
              "    background-color: var(--disabled-bg-color);\n",
              "    fill: var(--disabled-fill-color);\n",
              "    box-shadow: none;\n",
              "  }\n",
              "\n",
              "  .colab-df-spinner {\n",
              "    border: 2px solid var(--fill-color);\n",
              "    border-color: transparent;\n",
              "    border-bottom-color: var(--fill-color);\n",
              "    animation:\n",
              "      spin 1s steps(1) infinite;\n",
              "  }\n",
              "\n",
              "  @keyframes spin {\n",
              "    0% {\n",
              "      border-color: transparent;\n",
              "      border-bottom-color: var(--fill-color);\n",
              "      border-left-color: var(--fill-color);\n",
              "    }\n",
              "    20% {\n",
              "      border-color: transparent;\n",
              "      border-left-color: var(--fill-color);\n",
              "      border-top-color: var(--fill-color);\n",
              "    }\n",
              "    30% {\n",
              "      border-color: transparent;\n",
              "      border-left-color: var(--fill-color);\n",
              "      border-top-color: var(--fill-color);\n",
              "      border-right-color: var(--fill-color);\n",
              "    }\n",
              "    40% {\n",
              "      border-color: transparent;\n",
              "      border-right-color: var(--fill-color);\n",
              "      border-top-color: var(--fill-color);\n",
              "    }\n",
              "    60% {\n",
              "      border-color: transparent;\n",
              "      border-right-color: var(--fill-color);\n",
              "    }\n",
              "    80% {\n",
              "      border-color: transparent;\n",
              "      border-right-color: var(--fill-color);\n",
              "      border-bottom-color: var(--fill-color);\n",
              "    }\n",
              "    90% {\n",
              "      border-color: transparent;\n",
              "      border-bottom-color: var(--fill-color);\n",
              "    }\n",
              "  }\n",
              "</style>\n",
              "\n",
              "  <script>\n",
              "    async function quickchart(key) {\n",
              "      const quickchartButtonEl =\n",
              "        document.querySelector('#' + key + ' button');\n",
              "      quickchartButtonEl.disabled = true;  // To prevent multiple clicks.\n",
              "      quickchartButtonEl.classList.add('colab-df-spinner');\n",
              "      try {\n",
              "        const charts = await google.colab.kernel.invokeFunction(\n",
              "            'suggestCharts', [key], {});\n",
              "      } catch (error) {\n",
              "        console.error('Error during call to suggestCharts:', error);\n",
              "      }\n",
              "      quickchartButtonEl.classList.remove('colab-df-spinner');\n",
              "      quickchartButtonEl.classList.add('colab-df-quickchart-complete');\n",
              "    }\n",
              "    (() => {\n",
              "      let quickchartButtonEl =\n",
              "        document.querySelector('#df-f9ecbd08-8bbc-4fd2-ae7a-77422015dfcb button');\n",
              "      quickchartButtonEl.style.display =\n",
              "        google.colab.kernel.accessAllowed ? 'block' : 'none';\n",
              "    })();\n",
              "  </script>\n",
              "</div>\n",
              "\n",
              "    </div>\n",
              "  </div>\n"
            ],
            "application/vnd.google.colaboratory.intrinsic+json": {
              "type": "dataframe",
              "summary": "{\n  \"name\": \"data\",\n  \"rows\": 11,\n  \"fields\": [\n    {\n      \"column\": \"SleepHrsNight\",\n      \"properties\": {\n        \"dtype\": \"number\",\n        \"std\": 701.7511458193167,\n        \"min\": 1.317418716232694,\n        \"max\": 1991.0,\n        \"num_unique_values\": 8,\n        \"samples\": [\n          6.878955298844802,\n          7.0,\n          1991.0\n        ],\n        \"semantic_type\": \"\",\n        \"description\": \"\"\n      }\n    },\n    {\n      \"column\": \"Gender\",\n      \"properties\": {\n        \"dtype\": \"category\",\n        \"num_unique_values\": 4,\n        \"samples\": [\n          2,\n          \"1006\",\n          \"1991\"\n        ],\n        \"semantic_type\": \"\",\n        \"description\": \"\"\n      }\n    },\n    {\n      \"column\": \"Age\",\n      \"properties\": {\n        \"dtype\": \"number\",\n        \"std\": 688.7182039790836,\n        \"min\": 17.180169280215164,\n        \"max\": 1991.0,\n        \"num_unique_values\": 8,\n        \"samples\": [\n          48.12707182320442,\n          48.0,\n          1991.0\n        ],\n        \"semantic_type\": \"\",\n        \"description\": \"\"\n      }\n    },\n    {\n      \"column\": \"Race_Ethnicity\",\n      \"properties\": {\n        \"dtype\": \"category\",\n        \"num_unique_values\": 4,\n        \"samples\": [\n          5,\n          \"1367\",\n          \"1991\"\n        ],\n        \"semantic_type\": \"\",\n        \"description\": \"\"\n      }\n    },\n    {\n      \"column\": \"HomeOwn\",\n      \"properties\": {\n        \"dtype\": \"category\",\n        \"num_unique_values\": 4,\n        \"samples\": [\n          3,\n          \"1283\",\n          \"1991\"\n        ],\n        \"semantic_type\": \"\",\n        \"description\": \"\"\n      }\n    },\n    {\n      \"column\": \"Depressed\",\n      \"properties\": {\n        \"dtype\": \"category\",\n        \"num_unique_values\": 4,\n        \"samples\": [\n          2,\n          \"274\",\n          \"405\"\n        ],\n        \"semantic_type\": \"\",\n        \"description\": \"\"\n      }\n    },\n    {\n      \"column\": \"Smoke100\",\n      \"properties\": {\n        \"dtype\": \"category\",\n        \"num_unique_values\": 4,\n        \"samples\": [\n          2,\n          \"1105\",\n          \"1991\"\n        ],\n        \"semantic_type\": \"\",\n        \"description\": \"\"\n      }\n    }\n  ]\n}"
            }
          },
          "metadata": {},
          "execution_count": 16
        }
      ]
    },
    {
      "cell_type": "markdown",
      "source": [
        "A partir desses dados pede-se:"
      ],
      "metadata": {
        "id": "QkvIj2-CvN5b"
      }
    },
    {
      "cell_type": "code",
      "source": [
        "# Calcule o número de pacientes em cada gênero\n",
        "data.Gender.value_counts()"
      ],
      "metadata": {
        "id": "aDIJ8hYIt-KR",
        "outputId": "6a7e7560-8963-4d1b-9bdc-666c54983c41",
        "colab": {
          "base_uri": "https://localhost:8080/"
        }
      },
      "execution_count": 28,
      "outputs": [
        {
          "output_type": "execute_result",
          "data": {
            "text/plain": [
              "Gender\n",
              "male      1006\n",
              "female     985\n",
              "Name: count, dtype: int64"
            ]
          },
          "metadata": {},
          "execution_count": 28
        }
      ]
    },
    {
      "cell_type": "code",
      "source": [
        "# Calcule a média do número de horas de sono (SleepHrsNight) por gênero\n",
        "data.groupby('Gender').SleepHrsNight.mean()"
      ],
      "metadata": {
        "id": "Y8pzw9i9CFy2",
        "outputId": "37b6a598-493f-4174-a439-e7d3a1b564dd",
        "colab": {
          "base_uri": "https://localhost:8080/"
        }
      },
      "execution_count": 33,
      "outputs": [
        {
          "output_type": "execute_result",
          "data": {
            "text/plain": [
              "Gender\n",
              "female    6.996954\n",
              "male      6.763419\n",
              "Name: SleepHrsNight, dtype: float64"
            ]
          },
          "metadata": {},
          "execution_count": 33
        }
      ]
    },
    {
      "cell_type": "code",
      "source": [
        "# Calcule o intervalo de confiança de 95% da média de horas de sono das pacientes femininas.\n",
        "fem = data[data.Gender == 'female'].SleepHrsNight\n",
        "m = fem.mean()\n",
        "n = len(fem)\n",
        "s = fem.std()\n",
        "epf = s/n\n",
        "z = np.array([-1.96,1.96])\n",
        "cfem = m + z*(s/n**0.5)\n",
        "print(f\"intevalo de confiança de 95% das mulheres\",cfem)\n",
        "\n",
        "# Verifique se a média de horas de sono dos pacientes masculinos encontram-se neste intervalo\n",
        "masc = data[data.Gender == 'male'].SleepHrsNight\n",
        "m = masc.mean()\n",
        "print(f\"media de horas de sono dos homens {m.round(2)}\")\n",
        "n = len(masc)\n",
        "s = masc.std()\n",
        "z = np.array([-1.96,1.96])\n",
        "cmasc = m + z*(s/n**0.5)\n",
        "print(f\"intevalo de confiança de 95% dos homens\",cmasc)\n",
        "\n"
      ],
      "metadata": {
        "id": "D_WPnOEF0hOC",
        "outputId": "8475ff82-3050-4985-9328-b397a4f2437d",
        "colab": {
          "base_uri": "https://localhost:8080/"
        }
      },
      "execution_count": 49,
      "outputs": [
        {
          "output_type": "stream",
          "name": "stdout",
          "text": [
            "intevalo de confiança de 95% das mulheres [6.91162586 7.08228277]\n",
            "media de horas de sono dos homens 6.76\n",
            "intevalo de confiança de 95% dos homens [6.68569984 6.84113913]\n"
          ]
        }
      ]
    },
    {
      "cell_type": "code",
      "source": [
        "# Calcule a diferença entre as duas médias\n",
        "diffm = fem.mean() - masc.mean()\n",
        "diffm"
      ],
      "metadata": {
        "id": "Rx6RdHRnCJ8q",
        "outputId": "e65f2851-c174-4dea-f462-af12c64b6ed4",
        "colab": {
          "base_uri": "https://localhost:8080/"
        }
      },
      "execution_count": 58,
      "outputs": [
        {
          "output_type": "execute_result",
          "data": {
            "text/plain": [
              "0.23353483161942012"
            ]
          },
          "metadata": {},
          "execution_count": 58
        }
      ]
    },
    {
      "cell_type": "code",
      "source": [
        "# Será que a estatística te fornece suporte estatístico para dizer que as duas amostras foram retiradas de populações com médias distintas?\n",
        "# Em outras palavras, um grupo dorme mais que o outro?\n",
        "# H0: M1 - M2 == 0\n",
        "# Ha: M1 - M2 != 0\n",
        "# Realize o bootstrapping com 10000 reamostragem e calcule para cada reamostragem a diferença absoluta das médias das amostras.\n",
        "N = 10000\n",
        "pool = data.SleepHrsNight\n",
        "diff = np.zeros(N)\n",
        "m = (data.Gender == 'female').sum()\n",
        "n = (data.Gender == 'male').sum()\n",
        "\n",
        "for i in range(N):\n",
        "    s1 = pool.sample(n,replace=True)\n",
        "    s2 = pool.sample(m, replace=True)\n",
        "    diff[i] = abs(s1.mean() - s2.mean())\n"
      ],
      "metadata": {
        "id": "VPtecagGCPrH"
      },
      "execution_count": 62,
      "outputs": []
    },
    {
      "cell_type": "code",
      "source": [
        "# plote um histograma da distribuição das médias amostrais\n",
        "fig, ax = plt.subplots(1, 1, figsize=(12, 3))\n",
        "plt.hist(diff, density = True)\n",
        "plt.ylabel('Frequency')\n",
        "plt.xlabel('Difference in the mean')"
      ],
      "metadata": {
        "id": "70BXEv1sFNXa",
        "outputId": "a591c777-9252-4300-e583-2637460f0249",
        "colab": {
          "base_uri": "https://localhost:8080/",
          "height": 332
        }
      },
      "execution_count": 63,
      "outputs": [
        {
          "output_type": "execute_result",
          "data": {
            "text/plain": [
              "Text(0.5, 0, 'Difference in the mean')"
            ]
          },
          "metadata": {},
          "execution_count": 63
        },
        {
          "output_type": "display_data",
          "data": {
            "text/plain": [
              "<Figure size 1200x300 with 1 Axes>"
            ],
            "image/png": "[encoded data removed]"
          },
          "metadata": {}
        }
      ]
    },
    {
      "cell_type": "code",
      "source": [
        "# Conte o número de diferenças cujo valor absoluto foi maior que o observado. (two-sided)\n",
        "(diff > diffm).sum()"
      ],
      "metadata": {
        "id": "YyH15487C9IH",
        "outputId": "454a4aaf-9bda-4ea5-e15a-68cd15b887b6",
        "colab": {
          "base_uri": "https://localhost:8080/"
        }
      },
      "execution_count": 64,
      "outputs": [
        {
          "output_type": "execute_result",
          "data": {
            "text/plain": [
              "1"
            ]
          },
          "metadata": {},
          "execution_count": 64
        }
      ]
    },
    {
      "cell_type": "code",
      "source": [
        "# Calcule o valor p para este teste.\n",
        "(diff > diffm).sum()/N"
      ],
      "metadata": {
        "id": "wcc1NcrOxN_u",
        "outputId": "273d74f3-8d94-4e5d-a087-2d322986a6a6",
        "colab": {
          "base_uri": "https://localhost:8080/"
        }
      },
      "execution_count": 65,
      "outputs": [
        {
          "output_type": "execute_result",
          "data": {
            "text/plain": [
              "0.0001"
            ]
          },
          "metadata": {},
          "execution_count": 65
        }
      ]
    },
    {
      "cell_type": "code",
      "source": [
        "# Qual a conclusão sobre o teste?\n",
        "# EXISTE UM DIFERENCA SIGNIFICATIVA, SAO POPULACOES DIFERENTES"
      ],
      "metadata": {
        "id": "elyVOhCh2Lv6"
      },
      "execution_count": null,
      "outputs": []
    },
    {
      "cell_type": "markdown",
      "source": [
        "## Referência\n",
        "\n",
        "Este notebook foi baseado no capítulo 4 do livro \"Introduction to Data Science\" de Laura Igual e Santi Seguí (2017)\n",
        "\n",
        "https://bookdown.org/jgscott/DSGI/the-bootstrap.html"
      ],
      "metadata": {
        "id": "GUhRfaVTbgX4"
      }
    }
  ],
  "metadata": {
    "anaconda-cloud": {},
    "kernelspec": {
      "display_name": "Python 3",
      "language": "python",
      "name": "python3"
    },
    "language_info": {
      "codemirror_mode": {
        "name": "ipython",
        "version": 3
      },
      "file_extension": ".py",
      "mimetype": "text/x-python",
      "name": "python",
      "nbconvert_exporter": "python",
      "pygments_lexer": "ipython3",
      "version": "3.8.8"
    },
    "colab": {
      "provenance": [],
      "include_colab_link": true
    }
  },
  "nbformat": 4,
  "nbformat_minor": 0
}